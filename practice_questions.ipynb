{
  "nbformat": 4,
  "nbformat_minor": 0,
  "metadata": {
    "colab": {
      "provenance": []
    },
    "kernelspec": {
      "name": "python3",
      "display_name": "Python 3"
    },
    "language_info": {
      "name": "python"
    }
  },
  "cells": [
    {
      "cell_type": "code",
      "execution_count": 1,
      "metadata": {
        "colab": {
          "base_uri": "https://localhost:8080/"
        },
        "id": "UHhcsusMF-KY",
        "outputId": "a339bbd0-32f9-4cfb-fe2e-d56ad1469fe6"
      },
      "outputs": [
        {
          "output_type": "stream",
          "name": "stdout",
          "text": [
            "Kumar Ravi patel\n"
          ]
        }
      ],
      "source": [
        "def swap_string(input_string):\n",
        "    parts = input_string.split()\n",
        "    return f\"{parts[1]} {parts[0]} {parts[2].lower()}\"\n",
        "\n",
        "input_string = \"Ravi Kumar Patel\"\n",
        "output = swap_string(input_string)\n",
        "print(output)"
      ]
    },
    {
      "cell_type": "code",
      "source": [
        "def find_maximum(numbers):\n",
        "    max_num = numbers[0]\n",
        "    for num in numbers:\n",
        "        if num > max_num:\n",
        "            max_num = num\n",
        "    return max_num\n",
        "\n",
        "numbers = [87, 43, 76, 1, 99, 23, 8]\n",
        "max_number = find_maximum(numbers)\n",
        "print(max_number)"
      ],
      "metadata": {
        "colab": {
          "base_uri": "https://localhost:8080/"
        },
        "id": "w0ler_30HEAR",
        "outputId": "c1b31a08-1cad-43f6-a1e2-ed1c1a693070"
      },
      "execution_count": 2,
      "outputs": [
        {
          "output_type": "stream",
          "name": "stdout",
          "text": [
            "99\n"
          ]
        }
      ]
    },
    {
      "cell_type": "code",
      "source": [
        "def character_occurrence(s):\n",
        "    occurrence = {}\n",
        "    for char in s:\n",
        "        if char.isalpha():  # Count only alphabetic characters\n",
        "            occurrence[char] = occurrence.get(char, 0) + 1\n",
        "    return occurrence\n",
        "\n",
        "s1 = \"google\"\n",
        "output = character_occurrence(s1)\n",
        "print(output)"
      ],
      "metadata": {
        "colab": {
          "base_uri": "https://localhost:8080/"
        },
        "id": "GTZTBzicHHmZ",
        "outputId": "db45c440-1547-467e-ccc0-e338eb3d5259"
      },
      "execution_count": 3,
      "outputs": [
        {
          "output_type": "stream",
          "name": "stdout",
          "text": [
            "{'g': 2, 'o': 2, 'l': 1, 'e': 1}\n"
          ]
        }
      ]
    },
    {
      "cell_type": "code",
      "source": [
        "divisible_by_7 = [num for num in range(1, 1001) if num % 7 == 0]\n",
        "print(divisible_by_7)"
      ],
      "metadata": {
        "colab": {
          "base_uri": "https://localhost:8080/"
        },
        "id": "BjB7l7PPHMgX",
        "outputId": "d9c63b75-1ba6-4802-962f-c704241cc7a2"
      },
      "execution_count": 4,
      "outputs": [
        {
          "output_type": "stream",
          "name": "stdout",
          "text": [
            "[7, 14, 21, 28, 35, 42, 49, 56, 63, 70, 77, 84, 91, 98, 105, 112, 119, 126, 133, 140, 147, 154, 161, 168, 175, 182, 189, 196, 203, 210, 217, 224, 231, 238, 245, 252, 259, 266, 273, 280, 287, 294, 301, 308, 315, 322, 329, 336, 343, 350, 357, 364, 371, 378, 385, 392, 399, 406, 413, 420, 427, 434, 441, 448, 455, 462, 469, 476, 483, 490, 497, 504, 511, 518, 525, 532, 539, 546, 553, 560, 567, 574, 581, 588, 595, 602, 609, 616, 623, 630, 637, 644, 651, 658, 665, 672, 679, 686, 693, 700, 707, 714, 721, 728, 735, 742, 749, 756, 763, 770, 777, 784, 791, 798, 805, 812, 819, 826, 833, 840, 847, 854, 861, 868, 875, 882, 889, 896, 903, 910, 917, 924, 931, 938, 945, 952, 959, 966, 973, 980, 987, 994]\n"
          ]
        }
      ]
    },
    {
      "cell_type": "code",
      "source": [
        "input_list = [75, 8, 94, 2, 23, 29, 100]\n",
        "output = ['even' if num % 2 == 0 else 'odd' for num in input_list]\n",
        "print(output)"
      ],
      "metadata": {
        "colab": {
          "base_uri": "https://localhost:8080/"
        },
        "id": "7gz_M2MBHRMT",
        "outputId": "0d638a49-015d-4df9-e1e0-5e74f3d814ae"
      },
      "execution_count": 5,
      "outputs": [
        {
          "output_type": "stream",
          "name": "stdout",
          "text": [
            "['odd', 'even', 'even', 'even', 'odd', 'odd', 'even']\n"
          ]
        }
      ]
    },
    {
      "cell_type": "code",
      "source": [
        "import re\n",
        "\n",
        "def extract_numbers(input_string):\n",
        "    return [int(num) for num in re.findall(r'\\d+', input_string)]\n",
        "\n",
        "input_string = 'hello 1 hi 9 . How are 10'\n",
        "output = extract_numbers(input_string)\n",
        "print(output)"
      ],
      "metadata": {
        "colab": {
          "base_uri": "https://localhost:8080/"
        },
        "id": "lwHL98hxHVJ1",
        "outputId": "a13bab1d-c1b6-4e0b-eb61-aeaaaeec4eff"
      },
      "execution_count": 6,
      "outputs": [
        {
          "output_type": "stream",
          "name": "stdout",
          "text": [
            "[1, 9, 10]\n"
          ]
        }
      ]
    },
    {
      "cell_type": "code",
      "source": [
        "import re\n",
        "\n",
        "def is_valid_email(email):\n",
        "    pattern = r'^[a-zA-Z0-9._%+-]+@[a-zA-Z0-9.-]+\\.[a-zA-Z]{2,}$'\n",
        "    return \"correct\" if re.match(pattern, email) else \"incorrect\"\n",
        "\n",
        "email = \"xyz@gmail.com\"\n",
        "output = is_valid_email(email)\n",
        "print(output)"
      ],
      "metadata": {
        "colab": {
          "base_uri": "https://localhost:8080/"
        },
        "id": "HAw9dZrkHZCf",
        "outputId": "53be626b-0985-4098-a9c9-259206e905f6"
      },
      "execution_count": 7,
      "outputs": [
        {
          "output_type": "stream",
          "name": "stdout",
          "text": [
            "correct\n"
          ]
        }
      ]
    },
    {
      "cell_type": "code",
      "source": [
        "def remove_whitespace(input_string):\n",
        "    return input_string.replace(\" \", \"\")\n",
        "\n",
        "input_string = \"Hello World! How are you?\"\n",
        "output = remove_whitespace(input_string)\n",
        "print(output)"
      ],
      "metadata": {
        "colab": {
          "base_uri": "https://localhost:8080/"
        },
        "id": "1vm5d0afHcwU",
        "outputId": "fcd1e075-84a4-4a95-bcf9-eac3e399ded0"
      },
      "execution_count": 8,
      "outputs": [
        {
          "output_type": "stream",
          "name": "stdout",
          "text": [
            "HelloWorld!Howareyou?\n"
          ]
        }
      ]
    },
    {
      "cell_type": "code",
      "source": [
        "sum_of_numbers = sum([num for num in range(1, 51)])\n",
        "print(sum_of_numbers)"
      ],
      "metadata": {
        "colab": {
          "base_uri": "https://localhost:8080/"
        },
        "id": "ZZN5Dg-RHgMW",
        "outputId": "1e22656b-e903-4b4c-81ba-5eb49142fe40"
      },
      "execution_count": 9,
      "outputs": [
        {
          "output_type": "stream",
          "name": "stdout",
          "text": [
            "1275\n"
          ]
        }
      ]
    },
    {
      "cell_type": "code",
      "source": [
        "def is_alphanumeric(s):\n",
        "    return s.isalnum()\n",
        "\n",
        "input_string = \"abc123\"\n",
        "output = is_alphanumeric(input_string)\n",
        "print(output)"
      ],
      "metadata": {
        "colab": {
          "base_uri": "https://localhost:8080/"
        },
        "id": "Myx5GTQwHj0-",
        "outputId": "7f54521c-25a0-4c27-8469-90e15da5bd0b"
      },
      "execution_count": 10,
      "outputs": [
        {
          "output_type": "stream",
          "name": "stdout",
          "text": [
            "True\n"
          ]
        }
      ]
    }
  ]
}