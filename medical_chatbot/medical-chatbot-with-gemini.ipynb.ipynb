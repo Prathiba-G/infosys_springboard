{
 "cells": [
  {
   "cell_type": "code",
   "execution_count": 1,
   "metadata": {
    "execution": {
     "iopub.execute_input": "2024-04-20T18:29:13.549915Z",
     "iopub.status.busy": "2024-04-20T18:29:13.549447Z",
     "iopub.status.idle": "2024-04-20T18:29:14.574171Z",
     "shell.execute_reply": "2024-04-20T18:29:14.573050Z",
     "shell.execute_reply.started": "2024-04-20T18:29:13.549879Z"
    },
    "trusted": true
   },
   "outputs": [
    {
     "name": "stderr",
     "output_type": "stream",
     "text": [
      "c:\\Users\\Administrator\\anaconda3\\envs\\langchain\\lib\\site-packages\\pinecone\\data\\index.py:1: TqdmWarning: IProgress not found. Please update jupyter and ipywidgets. See https://ipywidgets.readthedocs.io/en/stable/user_install.html\n",
      "  from tqdm.autonotebook import tqdm\n"
     ]
    }
   ],
   "source": [
    "from langchain import PromptTemplate\n",
    "from langchain_pinecone import PineconeVectorStore\n",
    "from langchain.chains import RetrievalQA\n",
    "from langchain.embeddings import HuggingFaceEmbeddings\n",
    "from pinecone import Pinecone,ServerlessSpec\n",
    "from langchain.document_loaders import DirectoryLoader, PyPDFLoader  , PyPDFDirectoryLoader\n",
    "from langchain.text_splitter import RecursiveCharacterTextSplitter\n",
    "from langchain.prompts import PromptTemplate\n",
    "from langchain.llms import CTransformers\n",
    "from langchain.vectorstores import Pinecone\n",
    "from langchain.chains.question_answering import load_qa_chain\n",
    "from langchain_google_genai import ChatGoogleGenerativeAI\n",
    "\n",
    "\n",
    "import os\n"
   ]
  },
  {
   "cell_type": "code",
   "execution_count": 2,
   "metadata": {},
   "outputs": [],
   "source": [
    "ROOT_DIR = os.path.abspath('..')\n",
    "# data_path = r\"..\\..\\C:\\Users\\Administrator\\Documents\\Langchian_tasks\\M_bot_st\\data\\medical_book.pdf\"\n"
   ]
  },
  {
   "cell_type": "code",
   "execution_count": 3,
   "metadata": {},
   "outputs": [],
   "source": [
    "\n",
    "PINECONE_INDEX_NAME = \"medical-chatbot\"\n",
    "PINECONE_API_KEY = os.getenv(\"PINECONE_API_KEY\")\n",
    "GOOGLE_API_KEY = os.getenv(\"GOOGLE_API_KEY\")"
   ]
  },
  {
   "cell_type": "code",
   "execution_count": 4,
   "metadata": {
    "execution": {
     "iopub.execute_input": "2024-04-20T18:30:07.393025Z",
     "iopub.status.busy": "2024-04-20T18:30:07.392313Z",
     "iopub.status.idle": "2024-04-20T18:30:07.397279Z",
     "shell.execute_reply": "2024-04-20T18:30:07.396575Z",
     "shell.execute_reply.started": "2024-04-20T18:30:07.392991Z"
    },
    "trusted": true
   },
   "outputs": [
    {
     "name": "stdout",
     "output_type": "stream",
     "text": [
      "c:\\Users\\Administrator\\Documents\\Langchian_tasks\\M_bot_st\n"
     ]
    },
    {
     "data": {
      "text/plain": [
       "759"
      ]
     },
     "execution_count": 4,
     "metadata": {},
     "output_type": "execute_result"
    }
   ],
   "source": [
    "def load_data(data_path):\n",
    "    print(data_path)\n",
    "    loader = PyPDFDirectoryLoader(data_path)\n",
    "    data = loader.load()\n",
    "    return data\n",
    "\n",
    "docs = load_data(ROOT_DIR)\n",
    "len(docs)"
   ]
  },
  {
   "cell_type": "code",
   "execution_count": 5,
   "metadata": {},
   "outputs": [
    {
     "name": "stdout",
     "output_type": "stream",
     "text": [
      "6970\n"
     ]
    }
   ],
   "source": [
    "def text_split(data):\n",
    "    splitter = RecursiveCharacterTextSplitter(chunk_size = 500, chunk_overlap= 20)\n",
    "    text_chunks = splitter.split_documents(data)\n",
    "    return text_chunks\n",
    "\n",
    "text_chunks = text_split(docs)\n",
    "print(len(text_chunks))"
   ]
  },
  {
   "cell_type": "code",
   "execution_count": 31,
   "metadata": {},
   "outputs": [
    {
     "data": {
      "text/plain": [
       "[Document(metadata={'source': 'c:\\\\Users\\\\Administrator\\\\Documents\\\\Langchian_tasks\\\\M_bot_st\\\\data\\\\medical_book.pdf', 'page': 0}, page_content='The GALE\\nENCYCLOPEDIA\\nof MEDICINE\\nSECOND EDITION'),\n",
       " Document(metadata={'source': 'c:\\\\Users\\\\Administrator\\\\Documents\\\\Langchian_tasks\\\\M_bot_st\\\\data\\\\medical_book.pdf', 'page': 1}, page_content='The G ALE\\nENCYCLOPEDIA\\nof M EDICINE\\nSECOND EDITION\\nJACQUELINE L. LONGE, EDITOR\\nDEIRDRE S. BLANCHFIELD, ASSOCIATE EDITOR\\nVOLUME\\nC-F\\n2'),\n",
       " Document(metadata={'source': 'c:\\\\Users\\\\Administrator\\\\Documents\\\\Langchian_tasks\\\\M_bot_st\\\\data\\\\medical_book.pdf', 'page': 2}, page_content='STAFF\\nJacqueline L. Longe,Project Editor\\nDeirdre S. Blanchfield, Associate Editor\\nChristine B. Jeryan, Managing Editor\\nDonna Olendorf, Senior Editor\\nStacey Blachford, Associate Editor\\nKate Kretschmann, Melissa C. McDade, Ryan\\nThomason, Assistant Editors\\nMark Springer, Technical Specialist\\nAndrea Lopeman, Programmer/Analyst\\nBarbara J. Yarrow,Manager, Imaging and Multimedia\\nContent\\nRobyn V . Young,Project Manager, Imaging and\\nMultimedia Content\\nDean Dauphinais, Senior Editor, Imaging and'),\n",
       " Document(metadata={'source': 'c:\\\\Users\\\\Administrator\\\\Documents\\\\Langchian_tasks\\\\M_bot_st\\\\data\\\\medical_book.pdf', 'page': 2}, page_content='Multimedia Content\\nKelly A. Quin, Editor, Imaging and Multimedia Content\\nLeitha Etheridge-Sims, Mary K. Grimes, Dave Oblender,\\nImage Catalogers\\nPamela A. Reed, Imaging Coordinator\\nRandy Bassett, Imaging Supervisor\\nRobert Duncan, Senior Imaging Specialist\\nDan Newell, Imaging Specialist\\nChristine O’Bryan, Graphic Specialist\\nMaria Franklin, Permissions Manager\\nMargaret A. Chamberlain, Permissions Specialist\\nMichelle DiMercurio, Senior Art Director\\nMike Logusz, Graphic Artist'),\n",
       " Document(metadata={'source': 'c:\\\\Users\\\\Administrator\\\\Documents\\\\Langchian_tasks\\\\M_bot_st\\\\data\\\\medical_book.pdf', 'page': 2}, page_content='Mary Beth Trimper,Manager, Composition and\\nElectronic Prepress\\nEvi Seoud, Assistant Manager, Composition Purchasing\\nand Electronic Prepress\\nDorothy Maki, Manufacturing Manager\\nWendy Blurton, Senior Manufacturing Specialist\\nThe GALE\\nENCYCLOPEDIA\\nof MEDICINE\\nSECOND EDITION\\nSince this page cannot legibly accommodate all copyright notices, the\\nacknowledgments constitute an extension of the copyright notice.\\nWhile every effort has been made to ensure the reliability of the infor-')]"
      ]
     },
     "execution_count": 31,
     "metadata": {},
     "output_type": "execute_result"
    }
   ],
   "source": [
    "text_chunks[:5]"
   ]
  },
  {
   "cell_type": "code",
   "execution_count": 7,
   "metadata": {},
   "outputs": [
    {
     "name": "stderr",
     "output_type": "stream",
     "text": [
      "C:\\Users\\Administrator\\AppData\\Local\\Temp\\ipykernel_10112\\759301473.py:1: LangChainDeprecationWarning: The class `HuggingFaceEmbeddings` was deprecated in LangChain 0.2.2 and will be removed in 1.0. An updated version of the class exists in the :class:`~langchain-huggingface package and should be used instead. To use it run `pip install -U :class:`~langchain-huggingface` and import as `from :class:`~langchain_huggingface import HuggingFaceEmbeddings``.\n",
      "  embeddings = HuggingFaceEmbeddings(model_name=\"sentence-transformers/all-MiniLM-L6-v2\")\n",
      "c:\\Users\\Administrator\\anaconda3\\envs\\langchain\\lib\\site-packages\\torchvision\\datapoints\\__init__.py:12: UserWarning: The torchvision.datapoints and torchvision.transforms.v2 namespaces are still Beta. While we do not expect major breaking changes, some APIs may still change according to user feedback. Please submit any feedback you may have in this issue: https://github.com/pytorch/vision/issues/6753, and you can also check out https://github.com/pytorch/vision/issues/7319 to learn more about the APIs that we suspect might involve future changes. You can silence this warning by calling torchvision.disable_beta_transforms_warning().\n",
      "  warnings.warn(_BETA_TRANSFORMS_WARNING)\n",
      "c:\\Users\\Administrator\\anaconda3\\envs\\langchain\\lib\\site-packages\\torchvision\\transforms\\v2\\__init__.py:54: UserWarning: The torchvision.datapoints and torchvision.transforms.v2 namespaces are still Beta. While we do not expect major breaking changes, some APIs may still change according to user feedback. Please submit any feedback you may have in this issue: https://github.com/pytorch/vision/issues/6753, and you can also check out https://github.com/pytorch/vision/issues/7319 to learn more about the APIs that we suspect might involve future changes. You can silence this warning by calling torchvision.disable_beta_transforms_warning().\n",
      "  warnings.warn(_BETA_TRANSFORMS_WARNING)\n"
     ]
    },
    {
     "name": "stdout",
     "output_type": "stream",
     "text": [
      "Index successfully loaded.\n"
     ]
    }
   ],
   "source": [
    "\n",
    "embeddings = HuggingFaceEmbeddings(model_name=\"sentence-transformers/all-MiniLM-L6-v2\")\n",
    "docsearch = Pinecone.from_existing_index(index_name=PINECONE_INDEX_NAME, embedding=embeddings)\n",
    "print(\"Index successfully loaded.\")\n"
   ]
  },
  {
   "cell_type": "code",
   "execution_count": 8,
   "metadata": {},
   "outputs": [
    {
     "data": {
      "text/plain": [
       "384"
      ]
     },
     "execution_count": 8,
     "metadata": {},
     "output_type": "execute_result"
    }
   ],
   "source": [
    "vector  = embeddings.embed_query(\"what is Acne\")\n",
    "len(vector)"
   ]
  },
  {
   "cell_type": "code",
   "execution_count": null,
   "metadata": {},
   "outputs": [],
   "source": [
    "vectorstore_from_docs = PineconeVectorStore.from_documents(\n",
    "        text_chunks,\n",
    "        index_name=PINECONE_INDEX_NAME,\n",
    "        embedding=embeddings\n",
    "    )"
   ]
  },
  {
   "cell_type": "code",
   "execution_count": 9,
   "metadata": {},
   "outputs": [],
   "source": [
    "docsearch = PineconeVectorStore.from_existing_index(PINECONE_INDEX_NAME,embeddings)"
   ]
  },
  {
   "cell_type": "code",
   "execution_count": 11,
   "metadata": {},
   "outputs": [
    {
     "name": "stdout",
     "output_type": "stream",
     "text": [
      "[Document(id='6932ab45-de86-4274-9b48-61dee221a2a5', metadata={'page': 298.0, 'source': 'c:\\\\Users\\\\Administrator\\\\Documents\\\\Langchian_tasks\\\\Medical-Chatbot\\\\data\\\\medical_book.pdf'}, page_content='Corticosteroids—A group of anti-inflammatory\\nsubstances often used to treat skin conditions.\\nImmune response—The protective reaction by the\\nimmune system against foreign antigens (sub-\\nstances that the body perceives as potentially dan-\\ngerous). The immune system combats disease by\\nneutralizing or destroying antigens.\\ncontact dermatitis becomes a chronic and disabling con-\\ndition that can have a profound effect on employability\\nand quality of life.\\nPrevention'), Document(id='4265ab24-bb20-4270-9438-37335d9f040d', metadata={'page': 298.0, 'source': 'c:\\\\Users\\\\Administrator\\\\Documents\\\\Langchian_tasks\\\\Medical-Chatbot\\\\data\\\\medical_book.pdf'}, page_content='Corticosteroids—A group of anti-inflammatory\\nsubstances often used to treat skin conditions.\\nImmune response—The protective reaction by the\\nimmune system against foreign antigens (sub-\\nstances that the body perceives as potentially dan-\\ngerous). The immune system combats disease by\\nneutralizing or destroying antigens.\\ncontact dermatitis becomes a chronic and disabling con-\\ndition that can have a profound effect on employability\\nand quality of life.\\nPrevention'), Document(id='da8b9944-6583-4c75-81a8-6fee2447c084', metadata={'page': 298.0, 'source': 'c:\\\\Users\\\\Administrator\\\\Documents\\\\Langchian_tasks\\\\M_bot_st\\\\data\\\\medical_book.pdf'}, page_content='Corticosteroids—A group of anti-inflammatory\\nsubstances often used to treat skin conditions.\\nImmune response—The protective reaction by the\\nimmune system against foreign antigens (sub-\\nstances that the body perceives as potentially dan-\\ngerous). The immune system combats disease by\\nneutralizing or destroying antigens.\\ncontact dermatitis becomes a chronic and disabling con-\\ndition that can have a profound effect on employability\\nand quality of life.\\nPrevention')]\n"
     ]
    }
   ],
   "source": [
    "query = \"What are aCNE ?\"\n",
    "docs = docsearch.similarity_search(query,k=3)\n",
    "print(docs)"
   ]
  },
  {
   "cell_type": "code",
   "execution_count": 12,
   "metadata": {},
   "outputs": [],
   "source": [
    "prompt_template = \"\"\"\n",
    "Use the given information context to give appropriate answer for the user's question.\n",
    "If you don't know the answer, just say that you know the answer, but don't make up an answer.\n",
    "Context: {context}\n",
    "Question: {question}\n",
    "Only return the appropriate answer and nothing else.\n",
    "Helpful answer:\n",
    "\"\"\""
   ]
  },
  {
   "cell_type": "code",
   "execution_count": 13,
   "metadata": {
    "execution": {
     "iopub.execute_input": "2024-04-20T18:30:31.905748Z",
     "iopub.status.busy": "2024-04-20T18:30:31.905244Z",
     "iopub.status.idle": "2024-04-20T18:30:31.915792Z",
     "shell.execute_reply": "2024-04-20T18:30:31.914763Z",
     "shell.execute_reply.started": "2024-04-20T18:30:31.905720Z"
    },
    "trusted": true
   },
   "outputs": [
    {
     "data": {
      "text/plain": [
       "PromptTemplate(input_variables=['context', 'question'], input_types={}, partial_variables={}, template=\"\\nUse the given information context to give appropriate answer for the user's question.\\nIf you don't know the answer, just say that you know the answer, but don't make up an answer.\\nContext: {context}\\nQuestion: {question}\\nOnly return the appropriate answer and nothing else.\\nHelpful answer:\\n\")"
      ]
     },
     "execution_count": 13,
     "metadata": {},
     "output_type": "execute_result"
    }
   ],
   "source": [
    "prompt = PromptTemplate(template=prompt_template,input_variables=[\"context\",\"question\"])\n",
    "chain_type_kwargs = {\"prompt\":prompt}\n",
    "prompt"
   ]
  },
  {
   "cell_type": "code",
   "execution_count": 14,
   "metadata": {},
   "outputs": [
    {
     "name": "stderr",
     "output_type": "stream",
     "text": [
      "C:\\Users\\Administrator\\AppData\\Local\\Temp\\ipykernel_10112\\3141330526.py:5: LangChainDeprecationWarning: This class is deprecated. See the following migration guides for replacements based on `chain_type`:\n",
      "stuff: https://python.langchain.com/docs/versions/migrating_chains/stuff_docs_chain\n",
      "map_reduce: https://python.langchain.com/docs/versions/migrating_chains/map_reduce_chain\n",
      "refine: https://python.langchain.com/docs/versions/migrating_chains/refine_chain\n",
      "map_rerank: https://python.langchain.com/docs/versions/migrating_chains/map_rerank_docs_chain\n",
      "\n",
      "See also guides on retrieval and question-answering here: https://python.langchain.com/docs/how_to/#qa-with-rag\n",
      "  chain = load_qa_chain(llm , chain_type=\"stuff\")\n"
     ]
    }
   ],
   "source": [
    "# config = {'max_new_tokens': 512, 'temperature': 0.5}\n",
    "# llm = CTransformers(model='TheBloke/Llama-2-7B-Chat-GGML',model_file='llama-2-7b-chat.ggmlv3.q4_0.bin',model_type='llama' ,config=config)\n",
    "\n",
    "llm = ChatGoogleGenerativeAI(model=\"gemini-1.5-pro\", temperature=0.5, max_tokens=None, timeout=None)\n",
    "chain = load_qa_chain(llm , chain_type=\"stuff\")"
   ]
  },
  {
   "cell_type": "code",
   "execution_count": 15,
   "metadata": {
    "execution": {
     "iopub.execute_input": "2024-04-20T18:30:31.918009Z",
     "iopub.status.busy": "2024-04-20T18:30:31.917708Z",
     "iopub.status.idle": "2024-04-20T18:30:32.226235Z",
     "shell.execute_reply": "2024-04-20T18:30:32.225277Z",
     "shell.execute_reply.started": "2024-04-20T18:30:31.917984Z"
    },
    "trusted": true
   },
   "outputs": [],
   "source": [
    "def retrive_query(query):\n",
    "    matching_results = docsearch.similarity_search(query,k=10)\n",
    "    return matching_results\n",
    "\n",
    "\n",
    "def retrive_answer(query):\n",
    "    doc_search  = retrive_query(query)\n",
    "    print(doc_search)\n",
    "    response = chain.run(input_documents = doc_search , question = query)\n",
    "    return response"
   ]
  },
  {
   "cell_type": "code",
   "execution_count": 16,
   "metadata": {},
   "outputs": [
    {
     "name": "stdout",
     "output_type": "stream",
     "text": [
      "[Document(id='2a2edc06-b18d-4835-9346-dd4674e15f42', metadata={'page': 732.0, 'source': 'c:\\\\Users\\\\Administrator\\\\Documents\\\\Langchian_tasks\\\\Medical-Chatbot\\\\data\\\\medical_book.pdf'}, page_content='food manufacturers to add folic acid to enriched bread\\nand grain products to boost intake and to help prevent\\nneural tube defects (NTD).\\nPurpose\\nFolic acid works together with vitamin B12 and vita-\\nmin C to metabolize protein in the body. It is important\\nfor the formation of red and white blood cells. It is neces-\\nsary for the proper differentiation and growth of cells and\\nfor the development of the fetus. It is also used to form\\nthe nucleic acid of DNA and RNA. It increases the'), Document(id='c1142571-9774-4d4b-adea-c9717ca259a3', metadata={'page': 732.0, 'source': 'c:\\\\Users\\\\Administrator\\\\Documents\\\\Langchian_tasks\\\\Medical-Chatbot\\\\data\\\\medical_book.pdf'}, page_content='food manufacturers to add folic acid to enriched bread\\nand grain products to boost intake and to help prevent\\nneural tube defects (NTD).\\nPurpose\\nFolic acid works together with vitamin B12 and vita-\\nmin C to metabolize protein in the body. It is important\\nfor the formation of red and white blood cells. It is neces-\\nsary for the proper differentiation and growth of cells and\\nfor the development of the fetus. It is also used to form\\nthe nucleic acid of DNA and RNA. It increases the'), Document(id='01a5acca-266f-4f05-a3cb-737ac1bf359c', metadata={'page': 733.0, 'source': 'c:\\\\Users\\\\Administrator\\\\Documents\\\\Langchian_tasks\\\\Medical-Chatbot\\\\data\\\\medical_book.pdf'}, page_content='to cold.\\nRecommended Daily Allowance (RDA)—Guide-\\nlines for the amounts of vitamins and minerals nec-\\nessary for proper health and nutrition established\\nby the National Academy of Sciences in 1989.\\nWater-soluble vitamins—Vitamins that are not\\nstored in the body and are easily excreted. They\\nmust, therefore, be consumed regularly as foods or\\nsupplements to maintain health.\\nPERIODICALS\\nFallest-Strobl, Patricia, Ph.D., David Koch, James Stein, and'), Document(id='41361cce-47aa-4c61-b26c-ef7ef92a74ac', metadata={'page': 733.0, 'source': 'c:\\\\Users\\\\Administrator\\\\Documents\\\\Langchian_tasks\\\\Medical-Chatbot\\\\data\\\\medical_book.pdf'}, page_content='to cold.\\nRecommended Daily Allowance (RDA)—Guide-\\nlines for the amounts of vitamins and minerals nec-\\nessary for proper health and nutrition established\\nby the National Academy of Sciences in 1989.\\nWater-soluble vitamins—Vitamins that are not\\nstored in the body and are easily excreted. They\\nmust, therefore, be consumed regularly as foods or\\nsupplements to maintain health.\\nPERIODICALS\\nFallest-Strobl, Patricia, Ph.D., David Koch, James Stein, and'), Document(id='d1b5deef-9097-4148-b9eb-e62bf5800abb', metadata={'page': 733.0, 'source': 'c:\\\\Users\\\\Administrator\\\\Documents\\\\Langchian_tasks\\\\Medical-Chatbot\\\\data\\\\medical_book.pdf'}, page_content='Interactions\\nAs with all B-complex vitamins, it is best to take\\nfolic acid with the other B vitamins. Vitamin C is impor-\\ntant to the absorption and functioning of folic acid in the\\nbody.\\nResources\\nBOOKS\\nBraverman, Eric R., M.D., Carl C. Pfeiffer, M.D., Ph.D., Ken\\nBlum, Ph.D., and Richard Smayda, D.O. The Healing\\nNutrients Within.New Canaan, CT: Keats Publishing, 1997.\\nKirschmann, John D. and Gayla J. Kirschmann. Nutrition\\nAlmanac. New York: McGraw-Hill, 1996.\\nKEY TERMS'), Document(id='1b47e769-79dc-4401-9e9c-532ecfc16305', metadata={'page': 733.0, 'source': 'c:\\\\Users\\\\Administrator\\\\Documents\\\\Langchian_tasks\\\\Medical-Chatbot\\\\data\\\\medical_book.pdf'}, page_content='Interactions\\nAs with all B-complex vitamins, it is best to take\\nfolic acid with the other B vitamins. Vitamin C is impor-\\ntant to the absorption and functioning of folic acid in the\\nbody.\\nResources\\nBOOKS\\nBraverman, Eric R., M.D., Carl C. Pfeiffer, M.D., Ph.D., Ken\\nBlum, Ph.D., and Richard Smayda, D.O. The Healing\\nNutrients Within.New Canaan, CT: Keats Publishing, 1997.\\nKirschmann, John D. and Gayla J. Kirschmann. Nutrition\\nAlmanac. New York: McGraw-Hill, 1996.\\nKEY TERMS'), Document(id='d28078d1-d5db-4ea9-ae2b-f2d01fd981a6', metadata={'page': 732.0, 'source': 'c:\\\\Users\\\\Administrator\\\\Documents\\\\Langchian_tasks\\\\Medical-Chatbot\\\\data\\\\medical_book.pdf'}, page_content='Focal glomeruloscle see Nephrotic\\nsyndrome\\nFolic acid\\nDefinition\\nFolic acid is a water-soluable vitamin belonging to the\\nB-complex group of vitamins. These vitamins help the\\nbody break down complex carbohydrates into simple sug-\\nars to be used for energy. Excess B vitamins are excreted\\nfrom the body rather than stored for later use. This is why\\nsufficient daily intake of folic acid is necessary.\\nDescription\\nFolic acid is also known as folate, or folacin. It is'), Document(id='8e5b01e4-b260-464c-ab98-466d027bffc8', metadata={'page': 732.0, 'source': 'c:\\\\Users\\\\Administrator\\\\Documents\\\\Langchian_tasks\\\\Medical-Chatbot\\\\data\\\\medical_book.pdf'}, page_content='Focal glomeruloscle see Nephrotic\\nsyndrome\\nFolic acid\\nDefinition\\nFolic acid is a water-soluable vitamin belonging to the\\nB-complex group of vitamins. These vitamins help the\\nbody break down complex carbohydrates into simple sug-\\nars to be used for energy. Excess B vitamins are excreted\\nfrom the body rather than stored for later use. This is why\\nsufficient daily intake of folic acid is necessary.\\nDescription\\nFolic acid is also known as folate, or folacin. It is'), Document(id='d36d234d-4685-4ad5-9dff-2a7753aeaf9a', metadata={'page': 733.0, 'source': 'c:\\\\Users\\\\Administrator\\\\Documents\\\\Langchian_tasks\\\\Medical-Chatbot\\\\data\\\\medical_book.pdf'}, page_content='ingly common as age impedes the body’s ability to\\nabsorb folic acid, a water-soluble vitamin that is manu-\\nfactured by intestinal bacteria and stored for a short time\\nin the liver. Folic acid deficiency has also been implicat-\\nGALE ENCYCLOPEDIA OF MEDICINE 21348\\nFolic acid deficiency anemia'), Document(id='43382bed-332a-4da5-8f5f-5bbbec3971c1', metadata={'page': 733.0, 'source': 'c:\\\\Users\\\\Administrator\\\\Documents\\\\Langchian_tasks\\\\Medical-Chatbot\\\\data\\\\medical_book.pdf'}, page_content='ingly common as age impedes the body’s ability to\\nabsorb folic acid, a water-soluble vitamin that is manu-\\nfactured by intestinal bacteria and stored for a short time\\nin the liver. Folic acid deficiency has also been implicat-\\nGALE ENCYCLOPEDIA OF MEDICINE 21348\\nFolic acid deficiency anemia')]\n"
     ]
    },
    {
     "name": "stderr",
     "output_type": "stream",
     "text": [
      "C:\\Users\\Administrator\\AppData\\Local\\Temp\\ipykernel_10112\\3780821145.py:9: LangChainDeprecationWarning: The method `Chain.run` was deprecated in langchain 0.1.0 and will be removed in 1.0. Use :meth:`~invoke` instead.\n",
      "  response = chain.run(input_documents = doc_search , question = query)\n"
     ]
    },
    {
     "name": "stdout",
     "output_type": "stream",
     "text": [
      "Vitamins are organic compounds that are essential for normal growth and nutrition and are required in small quantities in the diet because they cannot be synthesized by the body.  They are classified as either fat-soluble (vitamins A, D, E, and K) or water-soluble (B vitamins and vitamin C).\n",
      "\n"
     ]
    }
   ],
   "source": [
    "que = \"what is Vitamins\"\n",
    "answer = retrive_answer(que)\n",
    "print(answer)"
   ]
  },
  {
   "cell_type": "code",
   "execution_count": 43,
   "metadata": {},
   "outputs": [
    {
     "name": "stdout",
     "output_type": "stream",
     "text": [
      "[Document(id='021a10b6-e333-45f4-8291-7e3e7c68da2e', metadata={'page': 501.0, 'source': 'c:\\\\Users\\\\Administrator\\\\Documents\\\\Langchian_tasks\\\\Medical-Chatbot\\\\data\\\\medical_book.pdf'}, page_content='Alternative practitioners concentrate on good nutri-\\ntion as a way to prevent heavy periods that are not caused\\nby uterine fibroids, endometrial polyps, endometriosis, or\\ncancer. Iron supplementation (100 mg per day) not only\\nhelps prevent anemia, but also appears to reduce menor-\\nrhagia in many women. Other recommended dietary sup-\\nplements include vitamins A and C. Vitamin C improves\\ncapillary fragility and enhances iron uptake.\\nVitamin E and bioflavonoid supplements are also'), Document(id='453726bc-f935-4a1a-9980-e55c5a3ff7b0', metadata={'page': 501.0, 'source': 'c:\\\\Users\\\\Administrator\\\\Documents\\\\Langchian_tasks\\\\Medical-Chatbot\\\\data\\\\medical_book.pdf'}, page_content='Alternative practitioners concentrate on good nutri-\\ntion as a way to prevent heavy periods that are not caused\\nby uterine fibroids, endometrial polyps, endometriosis, or\\ncancer. Iron supplementation (100 mg per day) not only\\nhelps prevent anemia, but also appears to reduce menor-\\nrhagia in many women. Other recommended dietary sup-\\nplements include vitamins A and C. Vitamin C improves\\ncapillary fragility and enhances iron uptake.\\nVitamin E and bioflavonoid supplements are also'), Document(id='31bc88b0-31e8-4f52-8ed2-8b418d7ea237', metadata={'page': 501.0, 'source': 'c:\\\\Users\\\\Administrator\\\\Documents\\\\Langchian_tasks\\\\Medical-Chatbot\\\\data\\\\medical_book.pdf'}, page_content='Alternative practitioners concentrate on good nutri-\\ntion as a way to prevent heavy periods that are not caused\\nby uterine fibroids, endometrial polyps, endometriosis, or\\ncancer. Iron supplementation (100 mg per day) not only\\nhelps prevent anemia, but also appears to reduce menor-\\nrhagia in many women. Other recommended dietary sup-\\nplements include vitamins A and C. Vitamin C improves\\ncapillary fragility and enhances iron uptake.\\nVitamin E and bioflavonoid supplements are also'), Document(id='5f0be65d-61ba-49bb-8cd6-cc34d37aa135', metadata={'page': 501.0, 'source': 'c:\\\\Users\\\\Administrator\\\\Documents\\\\Langchian_tasks\\\\M_bot_st\\\\data\\\\medical_book.pdf'}, page_content='Alternative practitioners concentrate on good nutri-\\ntion as a way to prevent heavy periods that are not caused\\nby uterine fibroids, endometrial polyps, endometriosis, or\\ncancer. Iron supplementation (100 mg per day) not only\\nhelps prevent anemia, but also appears to reduce menor-\\nrhagia in many women. Other recommended dietary sup-\\nplements include vitamins A and C. Vitamin C improves\\ncapillary fragility and enhances iron uptake.\\nVitamin E and bioflavonoid supplements are also'), Document(id='c1142571-9774-4d4b-adea-c9717ca259a3', metadata={'page': 732.0, 'source': 'c:\\\\Users\\\\Administrator\\\\Documents\\\\Langchian_tasks\\\\Medical-Chatbot\\\\data\\\\medical_book.pdf'}, page_content='food manufacturers to add folic acid to enriched bread\\nand grain products to boost intake and to help prevent\\nneural tube defects (NTD).\\nPurpose\\nFolic acid works together with vitamin B12 and vita-\\nmin C to metabolize protein in the body. It is important\\nfor the formation of red and white blood cells. It is neces-\\nsary for the proper differentiation and growth of cells and\\nfor the development of the fetus. It is also used to form\\nthe nucleic acid of DNA and RNA. It increases the'), Document(id='2a2edc06-b18d-4835-9346-dd4674e15f42', metadata={'page': 732.0, 'source': 'c:\\\\Users\\\\Administrator\\\\Documents\\\\Langchian_tasks\\\\Medical-Chatbot\\\\data\\\\medical_book.pdf'}, page_content='food manufacturers to add folic acid to enriched bread\\nand grain products to boost intake and to help prevent\\nneural tube defects (NTD).\\nPurpose\\nFolic acid works together with vitamin B12 and vita-\\nmin C to metabolize protein in the body. It is important\\nfor the formation of red and white blood cells. It is neces-\\nsary for the proper differentiation and growth of cells and\\nfor the development of the fetus. It is also used to form\\nthe nucleic acid of DNA and RNA. It increases the'), Document(id='1b47e769-79dc-4401-9e9c-532ecfc16305', metadata={'page': 733.0, 'source': 'c:\\\\Users\\\\Administrator\\\\Documents\\\\Langchian_tasks\\\\Medical-Chatbot\\\\data\\\\medical_book.pdf'}, page_content='Interactions\\nAs with all B-complex vitamins, it is best to take\\nfolic acid with the other B vitamins. Vitamin C is impor-\\ntant to the absorption and functioning of folic acid in the\\nbody.\\nResources\\nBOOKS\\nBraverman, Eric R., M.D., Carl C. Pfeiffer, M.D., Ph.D., Ken\\nBlum, Ph.D., and Richard Smayda, D.O. The Healing\\nNutrients Within.New Canaan, CT: Keats Publishing, 1997.\\nKirschmann, John D. and Gayla J. Kirschmann. Nutrition\\nAlmanac. New York: McGraw-Hill, 1996.\\nKEY TERMS'), Document(id='d1b5deef-9097-4148-b9eb-e62bf5800abb', metadata={'page': 733.0, 'source': 'c:\\\\Users\\\\Administrator\\\\Documents\\\\Langchian_tasks\\\\Medical-Chatbot\\\\data\\\\medical_book.pdf'}, page_content='Interactions\\nAs with all B-complex vitamins, it is best to take\\nfolic acid with the other B vitamins. Vitamin C is impor-\\ntant to the absorption and functioning of folic acid in the\\nbody.\\nResources\\nBOOKS\\nBraverman, Eric R., M.D., Carl C. Pfeiffer, M.D., Ph.D., Ken\\nBlum, Ph.D., and Richard Smayda, D.O. The Healing\\nNutrients Within.New Canaan, CT: Keats Publishing, 1997.\\nKirschmann, John D. and Gayla J. Kirschmann. Nutrition\\nAlmanac. New York: McGraw-Hill, 1996.\\nKEY TERMS'), Document(id='41361cce-47aa-4c61-b26c-ef7ef92a74ac', metadata={'page': 733.0, 'source': 'c:\\\\Users\\\\Administrator\\\\Documents\\\\Langchian_tasks\\\\Medical-Chatbot\\\\data\\\\medical_book.pdf'}, page_content='to cold.\\nRecommended Daily Allowance (RDA)—Guide-\\nlines for the amounts of vitamins and minerals nec-\\nessary for proper health and nutrition established\\nby the National Academy of Sciences in 1989.\\nWater-soluble vitamins—Vitamins that are not\\nstored in the body and are easily excreted. They\\nmust, therefore, be consumed regularly as foods or\\nsupplements to maintain health.\\nPERIODICALS\\nFallest-Strobl, Patricia, Ph.D., David Koch, James Stein, and'), Document(id='01a5acca-266f-4f05-a3cb-737ac1bf359c', metadata={'page': 733.0, 'source': 'c:\\\\Users\\\\Administrator\\\\Documents\\\\Langchian_tasks\\\\Medical-Chatbot\\\\data\\\\medical_book.pdf'}, page_content='to cold.\\nRecommended Daily Allowance (RDA)—Guide-\\nlines for the amounts of vitamins and minerals nec-\\nessary for proper health and nutrition established\\nby the National Academy of Sciences in 1989.\\nWater-soluble vitamins—Vitamins that are not\\nstored in the body and are easily excreted. They\\nmust, therefore, be consumed regularly as foods or\\nsupplements to maintain health.\\nPERIODICALS\\nFallest-Strobl, Patricia, Ph.D., David Koch, James Stein, and')]\n",
      "Vitamins A, C, E, B12, and folic acid are mentioned as necessary for various bodily functions.  The text also mentions the importance of iron, though it's a mineral and not a vitamin.\n",
      "\n"
     ]
    }
   ],
   "source": [
    "que = \"name some vitamins which are reqired for human \"\n",
    "answer = retrive_answer(que)\n",
    "print(answer)"
   ]
  }
 ],
 "metadata": {
  "kaggle": {
   "accelerator": "none",
   "dataSources": [
    {
     "datasetId": 4838430,
     "sourceId": 8174377,
     "sourceType": "datasetVersion"
    }
   ],
   "dockerImageVersionId": 30698,
   "isGpuEnabled": false,
   "isInternetEnabled": true,
   "language": "python",
   "sourceType": "notebook"
  },
  "kernelspec": {
   "display_name": "langchain",
   "language": "python",
   "name": "python3"
  },
  "language_info": {
   "codemirror_mode": {
    "name": "ipython",
    "version": 3
   },
   "file_extension": ".py",
   "mimetype": "text/x-python",
   "name": "python",
   "nbconvert_exporter": "python",
   "pygments_lexer": "ipython3",
   "version": "3.10.16"
  }
 },
 "nbformat": 4,
 "nbformat_minor": 4
}
